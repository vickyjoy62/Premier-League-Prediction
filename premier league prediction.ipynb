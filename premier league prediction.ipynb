{
 "cells": [
  {
   "cell_type": "code",
   "execution_count": null,
   "id": "71d20306",
   "metadata": {},
   "outputs": [
    {
     "name": "stdout",
     "output_type": "stream",
     "text": [
      "                                                area  \\\n",
      "0  {'id': 2072, 'name': 'England', 'code': 'ENG',...   \n",
      "1  {'id': 2072, 'name': 'England', 'code': 'ENG',...   \n",
      "2  {'id': 2072, 'name': 'England', 'code': 'ENG',...   \n",
      "3  {'id': 2072, 'name': 'England', 'code': 'ENG',...   \n",
      "4  {'id': 2072, 'name': 'England', 'code': 'ENG',...   \n",
      "\n",
      "                                         competition  season      id  \\\n",
      "0  {'id': 2021, 'name': 'Premier League', 'code':...    2023  435943   \n",
      "1  {'id': 2021, 'name': 'Premier League', 'code':...    2023  435944   \n",
      "2  {'id': 2021, 'name': 'Premier League', 'code':...    2023  435945   \n",
      "3  {'id': 2021, 'name': 'Premier League', 'code':...    2023  435946   \n",
      "4  {'id': 2021, 'name': 'Premier League', 'code':...    2023  435947   \n",
      "\n",
      "                utcDate    status  matchday           stage group  \\\n",
      "0  2023-08-11T19:00:00Z  FINISHED         1  REGULAR_SEASON  None   \n",
      "1  2023-08-12T12:00:00Z  FINISHED         1  REGULAR_SEASON  None   \n",
      "2  2023-08-12T14:00:00Z  FINISHED         1  REGULAR_SEASON  None   \n",
      "3  2023-08-12T14:00:00Z  FINISHED         1  REGULAR_SEASON  None   \n",
      "4  2023-08-12T14:00:00Z  FINISHED         1  REGULAR_SEASON  None   \n",
      "\n",
      "            lastUpdated                   homeTeam              awayTeam  \\\n",
      "0  2024-06-02T20:20:54Z                 Burnley FC    Manchester City FC   \n",
      "1  2023-09-19T20:20:30Z                 Arsenal FC  Nottingham Forest FC   \n",
      "2  2023-09-19T20:20:30Z            AFC Bournemouth    West Ham United FC   \n",
      "3  2023-09-19T20:20:30Z  Brighton & Hove Albion FC         Luton Town FC   \n",
      "4  2023-09-19T20:20:30Z                 Everton FC             Fulham FC   \n",
      "\n",
      "       score                                               odds  \\\n",
      "0  AWAY_TEAM  {'msg': 'Activate Odds-Package in User-Panel t...   \n",
      "1  HOME_TEAM  {'msg': 'Activate Odds-Package in User-Panel t...   \n",
      "2       DRAW  {'msg': 'Activate Odds-Package in User-Panel t...   \n",
      "3  HOME_TEAM  {'msg': 'Activate Odds-Package in User-Panel t...   \n",
      "4  AWAY_TEAM  {'msg': 'Activate Odds-Package in User-Panel t...   \n",
      "\n",
      "                                            referees  \n",
      "0  [{'id': 11585, 'name': 'Craig Pawson', 'type':...  \n",
      "1  [{'id': 11605, 'name': 'Michael Oliver', 'type...  \n",
      "2  [{'id': 11309, 'name': 'Peter Bankes', 'type':...  \n",
      "3  [{'id': 11556, 'name': 'David Coote', 'type': ...  \n",
      "4  [{'id': 11494, 'name': 'Stuart Attwell', 'type...  \n",
      "season\n",
      "2023    380\n",
      "2024    380\n",
      "Name: count, dtype: int64\n"
     ]
    }
   ],
   "source": [
    "import pandas as pd\n",
    "import requests\n",
    "\n",
    "API_TOKEN = \"08ebac818e7c47a8be0c9824a6972b48\"\n",
    "headers = {\"X-Auth-Token\": API_TOKEN}\n",
    "\n",
    "def fetch_matches(season_year):\n",
    "    url = f\"https://api.football-data.org/v4/competitions/PL/matches?season={season_year}\"\n",
    "    response = requests.get(url, headers=headers)\n",
    "    data = response.json()\n",
    "\n",
    "    matches = pd.DataFrame(data[\"matches\"])\n",
    "\n",
    "    matches[\"homeTeam\"] = matches[\"homeTeam\"].apply(lambda x: x[\"name\"])\n",
    "    matches[\"awayTeam\"] = matches[\"awayTeam\"].apply(lambda x: x[\"name\"])\n",
    "    matches[\"score\"] = matches[\"score\"].apply(lambda x: x[\"winner\"])  \n",
    "    matches[\"season\"] = season_year\n",
    "\n",
    "    return matches\n",
    "\n",
    "# Fetch and combine\n",
    "matches_2023 = fetch_matches(2023)\n",
    "matches_2024 = fetch_matches(2024)\n",
    "all_matches = pd.concat([matches_2023, matches_2024], ignore_index=True) #merge data frames\n",
    "\n",
    "# Output sample and counts\n",
    "print(all_matches.head())\n",
    "print(all_matches[\"season\"].value_counts())"
   ]
  },
  {
   "cell_type": "code",
   "execution_count": 6,
   "id": "454233ae",
   "metadata": {},
   "outputs": [
    {
     "name": "stdout",
     "output_type": "stream",
     "text": [
      "homeTeam\n",
      "Manchester City FC           49\n",
      "Liverpool FC                 49\n",
      "Arsenal FC                   48\n",
      "Aston Villa FC               39\n",
      "Newcastle United FC          38\n",
      "Chelsea FC                   38\n",
      "Tottenham Hotspur FC         31\n",
      "Manchester United FC         29\n",
      "Nottingham Forest FC         28\n",
      "Brighton & Hove Albion FC    28\n",
      "dtype: int64\n"
     ]
    }
   ],
   "source": [
    "# Home wins\n",
    "home_wins = all_matches[all_matches[\"score\"] == \"HOME_TEAM\"].groupby(\"homeTeam\").size()\n",
    "\n",
    "# Away wins\n",
    "away_wins = all_matches[all_matches[\"score\"] == \"AWAY_TEAM\"].groupby(\"awayTeam\").size()\n",
    "\n",
    "# Total wins = home + away\n",
    "total_wins = home_wins.add(away_wins, fill_value=0).astype(int)\n",
    "\n",
    "# Sort by most wins\n",
    "total_wins = total_wins.sort_values(ascending=False)\n",
    "\n",
    "# View top teams\n",
    "print(total_wins.head(10))"
   ]
  },
  {
   "cell_type": "code",
   "execution_count": 7,
   "id": "49f33e7a",
   "metadata": {},
   "outputs": [
    {
     "name": "stdout",
     "output_type": "stream",
     "text": [
      "                           Wins  Draws  Matches Played\n",
      "homeTeam                                              \n",
      "Manchester City FC           49     15              76\n",
      "Liverpool FC                 49     19              76\n",
      "Arsenal FC                   48     19              76\n",
      "Aston Villa FC               39     17              76\n",
      "Newcastle United FC          38     12              76\n",
      "Chelsea FC                   38     18              76\n",
      "Tottenham Hotspur FC         31     11              76\n",
      "Manchester United FC         29     15              76\n",
      "Nottingham Forest FC         28     17              76\n",
      "Brighton & Hove Albion FC    28     25              76\n"
     ]
    }
   ],
   "source": [
    "draws = all_matches[all_matches[\"score\"] == \"DRAW\"]\n",
    "home_draws = draws.groupby(\"homeTeam\").size()\n",
    "away_draws = draws.groupby(\"awayTeam\").size()\n",
    "total_draws = home_draws.add(away_draws, fill_value=0)\n",
    "\n",
    "# Total matches played per team\n",
    "home_matches = all_matches.groupby(\"homeTeam\").size()\n",
    "away_matches = all_matches.groupby(\"awayTeam\").size()\n",
    "total_matches = home_matches.add(away_matches, fill_value=0)\n",
    "\n",
    "team_stats = pd.DataFrame({\n",
    "    \"Wins\": total_wins,\n",
    "    \"Draws\": total_draws,\n",
    "    \"Matches Played\": total_matches\n",
    "}).fillna(0).astype(int).sort_values(\"Wins\", ascending=False)\n",
    "\n",
    "print(team_stats.head(10))"
   ]
  },
  {
   "cell_type": "code",
   "execution_count": 8,
   "id": "e8e830e2",
   "metadata": {},
   "outputs": [
    {
     "name": "stdout",
     "output_type": "stream",
     "text": [
      "homeTeam\n",
      "Liverpool FC                 166\n",
      "Arsenal FC                   163\n",
      "Manchester City FC           162\n",
      "Aston Villa FC               134\n",
      "Chelsea FC                   132\n",
      "Newcastle United FC          126\n",
      "Brighton & Hove Albion FC    109\n",
      "AFC Bournemouth              104\n",
      "Tottenham Hotspur FC         104\n",
      "Crystal Palace FC            102\n",
      "dtype: int64\n"
     ]
    }
   ],
   "source": [
    "total_points = (total_wins * 3).add(total_draws * 1, fill_value=0).astype(int)\n",
    "\n",
    "total_points = total_points.sort_values(ascending=False)\n",
    "\n",
    "print(total_points.head(10))"
   ]
  },
  {
   "cell_type": "code",
   "execution_count": 9,
   "id": "15b7a9ff",
   "metadata": {},
   "outputs": [
    {
     "name": "stdout",
     "output_type": "stream",
     "text": [
      "Liverpool FC                  0.036404\n",
      "Arsenal FC                    0.035746\n",
      "Manchester City FC            0.035526\n",
      "Aston Villa FC                0.029386\n",
      "Chelsea FC                    0.028947\n",
      "Newcastle United FC           0.027632\n",
      "Brighton & Hove Albion FC     0.023904\n",
      "AFC Bournemouth               0.022807\n",
      "Tottenham Hotspur FC          0.022807\n",
      "Crystal Palace FC             0.022368\n",
      "Manchester United FC          0.022368\n",
      "Nottingham Forest FC          0.022149\n",
      "Fulham FC                     0.022149\n",
      "Everton FC                    0.021053\n",
      "Brentford FC                  0.020833\n",
      "West Ham United FC            0.020833\n",
      "Wolverhampton Wanderers FC    0.019298\n",
      "Luton Town FC                 0.011404\n",
      "Leicester City FC             0.010965\n",
      "Burnley FC                    0.010526\n",
      "Ipswich Town FC               0.009649\n",
      "Sheffield United FC           0.007018\n",
      "Southampton FC                0.005263\n",
      "dtype: float64\n"
     ]
    }
   ],
   "source": [
    "match_counts = pd.concat([\n",
    "    all_matches[\"homeTeam\"],\n",
    "    all_matches[\"awayTeam\"]\n",
    "]).value_counts()\n",
    "\n",
    "max_points = match_counts * 3\n",
    "probability_win = total_points/(max_points*20)\n",
    "probability_win = probability_win.sort_values(ascending=False)\n",
    "print(probability_win)"
   ]
  }
 ],
 "metadata": {
  "kernelspec": {
   "display_name": "base",
   "language": "python",
   "name": "python3"
  },
  "language_info": {
   "codemirror_mode": {
    "name": "ipython",
    "version": 3
   },
   "file_extension": ".py",
   "mimetype": "text/x-python",
   "name": "python",
   "nbconvert_exporter": "python",
   "pygments_lexer": "ipython3",
   "version": "3.13.5"
  }
 },
 "nbformat": 4,
 "nbformat_minor": 5
}
